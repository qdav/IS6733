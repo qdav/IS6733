{
 "cells": [
  {
   "cell_type": "code",
   "execution_count": 1,
   "metadata": {
    "pycharm": {
     "is_executing": false
    }
   },
   "outputs": [
    {
     "name": "stderr",
     "text": [
      "Using TensorFlow backend.\n"
     ],
     "output_type": "stream"
    }
   ],
   "source": [
    "import pandas as pd\n",
    "import numpy as np\n",
    "import matplotlib.pyplot as plt\n",
    "import sklearn.preprocessing\n",
    "import time\n",
    "import random\n",
    "import logging\n",
    "\n",
    "from sklearn.model_selection import train_test_split\n",
    "from itertools import combinations\n",
    "from sklearn.linear_model import LinearRegression\n",
    "from sklearn import metrics as skm\n",
    "from sklearn.preprocessing import StandardScaler\n",
    "from sklearn import linear_model\n",
    "from sklearn.ensemble import RandomForestClassifier\n",
    "from sklearn import metrics\n",
    "from sklearn.neighbors import KNeighborsClassifier\n",
    "from sklearn.metrics import confusion_matrix, classification_report\n",
    "from sklearn.svm import SVC\n",
    "from sklearn.model_selection import cross_val_score, GridSearchCV\n",
    "\n",
    "from keras.models import Sequential\n",
    "from keras.layers import Dense\n",
    "from keras.wrappers.scikit_learn import KerasClassifier\n",
    "from keras.utils import np_utils\n",
    "from sklearn.preprocessing import LabelEncoder\n",
    "\n",
    "logging.basicConfig(\n",
    "    level=logging.INFO,\n",
    "    #format=\"%(asctime)s %(message)s\",\n",
    "    format=\"%(message)s\",\n",
    "    handlers=[\n",
    "        logging.FileHandler(\"{0}.log\".format('pitch_prediction')),\n",
    "        logging.StreamHandler()\n",
    "    ])\n",
    "\n",
    "logger = logging.getLogger()\n",
    "\n",
    "pd.options.display.width = 0\n",
    "pd.set_option('display.max_rows', None)"
   ]
  },
  {
   "cell_type": "code",
   "execution_count": 2,
   "metadata": {
    "pycharm": {
     "is_executing": false
    }
   },
   "outputs": [],
   "source": [
    "# decode labels for outcomes and pitch types\n",
    "\n",
    "# outcome codes\n",
    "outcome_code = {\n",
    "    'outcome_code' : ['B', '*B', 'S', 'C',\n",
    "                      'F', 'T', 'L', 'I',\n",
    "                      'W', 'M', 'P',\n",
    "                      'Q','R', 'X',\n",
    "                      'D', 'E', 'H',\n",
    "                      'V', 'Z'],\n",
    "    'outcome_description' : ['Ball', 'Ball in Dirt', 'Swinging Strike', 'Called Strike',\n",
    "                            'Foul', 'Foul Tip', 'Foul Bunt', 'Intentional Ball',\n",
    "                            'Swinging Strike (Blocked)', 'Missed Bunt', 'Pitchout',\n",
    "                            'Swinging Pitchout', 'Foul Pitchout', 'In Play, Out(s)',\n",
    "                            'In Play, No Outs', 'In Play, Runs', 'Hit by pitch',\n",
    "                            'V', 'Z']\n",
    "}\n",
    "outcome_code = pd.DataFrame.from_dict(outcome_code)\n",
    "\n",
    "pitch_code = {\n",
    "    'pitch_code': ['CH', 'CU', 'EP', 'FC',\n",
    "                   'FF', 'FO', 'FS', 'FT',\n",
    "                   'IN', 'KC', 'KN',\n",
    "                   'PO', 'SC', 'SI',\n",
    "                   'SL', 'UN', 'FA', 'AB'],\n",
    "    'pitch_description': ['Changeup', 'Curveball', 'Eephus', 'Cutter',\n",
    "                          'Four-seam Fastball', 'Pitchout', 'Splitter', 'Two-seam Fastball',\n",
    "                          'Intentionall ball', 'Knuckle curve', 'Knuckleball',\n",
    "                          'Pitchout', 'Screwball', 'Sinker',\n",
    "                          'Slider', 'Unknown', 'FA', 'AB']\n",
    "}\n",
    "pitch_code = pd.DataFrame.from_dict(pitch_code)"
   ]
  },
  {
   "cell_type": "code",
   "execution_count": 3,
   "metadata": {
    "pycharm": {
     "is_executing": false
    }
   },
   "outputs": [],
   "source": [
    "def load_data(num_rec=0):\n",
    "    # specify subset of records to use\n",
    "    if num_rec > 0:\n",
    "        pitches = pd.read_csv(\"data/pitches.csv\", nrows=num_rec)\n",
    "    else:\n",
    "        pitches = pd.read_csv(\"data/pitches.csv\")\n",
    "    atbats = pd.read_csv(\"data/atbats.csv\")\n",
    "    ejections = pd.read_csv(\"data/ejections.csv\")\n",
    "    games = pd.read_csv(\"data/games.csv\")\n",
    "    player_names = pd.read_csv(\"data/player_names.csv\")\n",
    "\n",
    "\n",
    "\n",
    "    # join all the data into all_df\n",
    "    all_df = pd.merge(pitches, atbats, how='left',\n",
    "            left_on = 'ab_id', right_on = 'ab_id')\n",
    "\n",
    "    pitcher_df = player_names\n",
    "    pitcher_df.columns = ['pitcher_id', 'pitcher_first_name', 'pitcher_last_name']\n",
    "\n",
    "    all_df = pd.merge(all_df, pitcher_df, how='left',\n",
    "            left_on = 'pitcher_id', right_on = 'pitcher_id')\n",
    "\n",
    "    batter_df = player_names\n",
    "    batter_df.columns = ['batter_id', 'batter_first_name', 'batter_last_name']\n",
    "\n",
    "    all_df = pd.merge(all_df, batter_df, how='left',\n",
    "            left_on = 'batter_id', right_on = 'batter_id')\n",
    "\n",
    "    all_df = pd.merge(all_df, games, how='left',\n",
    "            left_on = 'g_id', right_on = 'g_id')\n",
    "\n",
    "    all_df = pd.merge(all_df, pitch_code, how='left',\n",
    "            left_on = 'pitch_type', right_on = 'pitch_code')\n",
    "\n",
    "    all_df = pd.merge(all_df, outcome_code, how='left',\n",
    "            left_on = 'code', right_on = 'outcome_code')\n",
    "\n",
    "    # extract weather conditions\n",
    "    all_df['temp'] = all_df['weather'].str.extract(r'(\\d+)')  # temperature\n",
    "    all_df['temp'] = pd.to_numeric(all_df['temp'])\n",
    "    all_df['weather_cond'] = all_df['weather'].str.extract(r'([^,]*$)')  # weather condition\n",
    "    all_df['wind_mph'] = all_df['wind'].str.extract(r'(\\d+)')  # wind speed\n",
    "    all_df['wind_mph'] = pd.to_numeric(all_df['wind_mph'])\n",
    "    all_df['wind_dir'] = all_df['wind'].str.extract(r'([^,]*$)')  # wind direction\n",
    "\n",
    "    all_df.dropna(inplace=True)\n",
    "\n",
    "\n",
    "    return all_df\n",
    "\n",
    "def encode_data(df_in, x_col_list, y_col, avail_cols, y_encode='none', factor=np.nan, x_encode=True):\n",
    "    col_no_encode = []\n",
    "    # we know there's one dependent variable to seed a dataframe\n",
    "    y_df = df_in[[y_col]]\n",
    "    encode_df = y_df\n",
    "\n",
    "    for col in x_col_list:\n",
    "        if avail_cols.get(col):\n",
    "            # one-hot encode\n",
    "            dummies_df = pd.get_dummies(df_in[col], prefix=col)\n",
    "            encode_df = pd.concat([encode_df, dummies_df], axis=1)\n",
    "        else:\n",
    "            # just retrieve the column directly\n",
    "            col_no_encode.append(col)\n",
    "\n",
    "    encode_df = encode_df.drop([y_col], axis=1) # remove dependent variable seeding column\n",
    "    if x_encode:\n",
    "        X = pd.concat([encode_df, df_in[col_no_encode]], axis=1)\n",
    "    else:\n",
    "        X = df_in[x_col_list]\n",
    "\n",
    "    if y_encode=='factorize':\n",
    "        # use factorized y value\n",
    "        y_return = factor[0]\n",
    "    elif y_encode=='onehot':\n",
    "        # one hot encode y values\n",
    "        y_return = pd.get_dummies(y_df, prefix=y_col)\n",
    "    else:\n",
    "        y_return = y_df\n",
    "\n",
    "    y = y_return\n",
    "\n",
    "    return X, y\n"
   ]
  },
  {
   "cell_type": "code",
   "execution_count": 4,
   "metadata": {
    "pycharm": {
     "is_executing": false
    }
   },
   "outputs": [],
   "source": [
    "# functions to evaluate the results of different models and write to file\n",
    "\n",
    "def format_cm(y_test_in, y_pred_in, factor_in):\n",
    "    # confusion matrix\n",
    "    y_test_label = factor_in[1][y_test_in]\n",
    "    y_pred_label = factor_in[1][y_pred_in]\n",
    "    cm = pd.DataFrame(\n",
    "        confusion_matrix(y_test_label, y_pred_label, labels=list(factor_in[1])),\n",
    "        index=list(factor_in[1]),\n",
    "        columns=list(factor_in[1])\n",
    "    )\n",
    "    return cm\n",
    "\n",
    "\n",
    "def eval_rf(y_test_in, y_pred_in, classifier_in, factor_in, idx_in, vars_in, elapsed_time, col_labels):\n",
    "    logger.info(f'\\nRandom Forest Test ' + str(idx_in))\n",
    "    logger.info(str(vars_in))\n",
    "\n",
    "    # confusion matrix\n",
    "    cm = format_cm(y_test_in, y_pred_in, factor_in)\n",
    "    logger.info(cm)\n",
    "\n",
    "    # print variable importance\n",
    "    #df_x_train = pd.DataFrame(X_train)\n",
    "\n",
    "    feature_importances = pd.DataFrame(classifier_in.feature_importances_,\n",
    "                                       index = col_labels,\n",
    "                                        columns=['importance']).sort_values('importance', ascending=False)\n",
    "    #train_col_df = pd.DataFrame(df_x_train.columns)\n",
    "    #fi = pd.merge(feature_importances, col_labels_df, how='left',\n",
    "    #        left_index = True, right_index = True)\n",
    "\n",
    "    #logger.info('\\n' + str(feature_importances.iloc[:20]))\n",
    "    logger.info('\\n' + str(feature_importances))\n",
    "\n",
    "    pscore = metrics.accuracy_score(y_test_in, y_pred_in)\n",
    "    logger.info(f'Random Forest accuracy {pscore}')\n",
    "    logger.info('Model time: %.1f [sec]' % (elapsed_time))\n",
    "\n",
    "def eval_knn(y_test_in, y_pred_in, factor_in, idx_in, vars_in, elapsed_time):\n",
    "    logger.info(f'\\nKNN Test ' + str(idx_in))\n",
    "    logger.info(str(vars_in))\n",
    "\n",
    "    # confusion matrix\n",
    "    cm = format_cm(y_test_in, y_pred_in, factor_in)\n",
    "    logger.info(cm)\n",
    "\n",
    "    # accuracy/time\n",
    "    pscore = metrics.accuracy_score(y_test_in, y_pred_in)\n",
    "    logger.info(f'KNN accuracy {pscore}')\n",
    "    logger.info('Model time: %.1f [sec]' % (elapsed_time))\n",
    "\n",
    "def eval_svc(y_test_in, y_pred_in, factor_in, idx_in, vars_in, elapsed_time):\n",
    "    logger.info(f'\\nSVC Test ' + str(idx_in))\n",
    "    logger.info(str(vars_in))\n",
    "\n",
    "    # confusion matrix\n",
    "    cm = format_cm(y_test_in, y_pred_in, factor_in)\n",
    "    logger.info(cm)\n",
    "\n",
    "    # accuracy/time\n",
    "    pscore = metrics.accuracy_score(y_test_in, y_pred_in)\n",
    "    logger.info(f'SVC accuracy {pscore}')\n",
    "    logger.info('Model time: %.1f [sec]' % (elapsed_time))\n",
    "\n",
    "def eval_nn(y_test_in, y_pred_in, history_in, factor_in, idx_in, vars_in, elapsed_time_in):\n",
    "    logger.info(f'\\nNeural Net Test ' + str(idx_in))\n",
    "    logger.info(str(vars_in))\n",
    "\n",
    "    # model architecture\n",
    "    print(str(history_in.model.summary()))\n",
    "    logger.info(str(history_in.model.summary()))\n",
    "\n",
    "    # accuracy/loss by epoch\n",
    "    hist = pd.DataFrame(history_in.history)\n",
    "    hist['epoch'] = history_in.epoch\n",
    "    logger.info('\\n' + str(hist))\n",
    "\n",
    "    # plot\n",
    "    acc = history_in.history['accuracy']\n",
    "    val_acc = history_in.history['val_accuracy']\n",
    "    loss = history_in.history['loss']\n",
    "    val_loss = history_in.history['val_loss']\n",
    "\n",
    "    epochs = range(1, len(acc) + 1)\n",
    "\n",
    "    plt.plot(epochs, acc, 'bo', label='Training acc')\n",
    "    plt.plot(epochs, val_acc, 'b', label='Validation acc')\n",
    "    plt.title('Training and validation accuracy')\n",
    "    plt.xlabel('Epochs')\n",
    "    plt.ylabel('Accuracy')\n",
    "    plt.legend()\n",
    "    plt.show()\n",
    "\n",
    "    # exit accuracy and loss\n",
    "    test_loss, test_acc = model.evaluate(X_test, y_test, verbose=2)\n",
    "    logger.info(f'\\nExit test accuracy: {test_acc}')\n",
    "    logger.info(f'Exit test loss: {test_loss}')\n",
    "\n",
    "    # confusion matrix\n",
    "    cm = format_cm(y_test_in, y_pred_in, factor_in)\n",
    "    logger.info(cm)\n",
    "\n",
    "    # accuracy/time\n",
    "    pscore = metrics.accuracy_score(y_test_in, y_pred_in)\n",
    "    logger.info(f'Neural Net accuracy {pscore}')\n",
    "    logger.info('Model time: %.1f [sec]' % (elapsed_time_in))"
   ]
  },
  {
   "cell_type": "code",
   "execution_count": 5,
   "metadata": {
    "pycharm": {
     "is_executing": false
    }
   },
   "outputs": [],
   "source": [
    "# These are the values one can pass in as variables\n",
    "# Values specify whether the column should be one-hot encoded\n",
    "# Some are known at the time of pitch and some are outcomes of a pitch\n",
    "avail_cols = {\n",
    "    'px': False,        'pz': False,        'start_speed': False,   'end_speed': False,\n",
    "    'spin_rate': False, 'spin_dir': False,  'break_angle': False,   'break_length': False,\n",
    "    'break_y': False,   'ax': False,        'ay': False,            'az': False,\n",
    "    'sz_bot': False,    'sz_top': False,    'type_confidence': True,'vx0': False,\n",
    "    'vy0': False,       'vz0': False,       'x': False,             'x0': False,\n",
    "    'y': False,         'y0': False,        'z0': False,            'pfx_x': False,\n",
    "    'pfx_z': False,     'nasty': False,     'zone': True,           'code':\tTrue,\n",
    "    'type': True,       'pitch_type': True, 'event_num': False,     'b_score': False,\n",
    "    'ab_id' : True,     'b_count': True,    's_count': True,        'outs': True,\n",
    "    'pitch_num': False, 'on_1b': False,     'on_2b': False,         'on_3b': False,\n",
    "    'batter_id': True,  'event': True,      'g_id': True,           'inning': True,     'o': True,\n",
    "    'p_score': False,   'p_throws': True,   'pitcher_id': True,     'stand': True,      'top': False,\n",
    "    'pitcher_first_name': True,     'pitcher_last_name': True,      'batter_first_name': True,\n",
    "    'batter_last_name': True,       'attendance': False,            'away_final_score': False,\n",
    "    'away_team': True,  'date': True,       'elapsed_time': False,  'home_final_score': False,\n",
    "    'home_team': True,  'start_time': False, 'umpire_1B': True,      'umpire_2B': True,\n",
    "    'umpire_3B': True,  'umpire_HP': True,  'venue_name': True,     'weather': True,\n",
    "    'wind': True,       'delay': False,     'pitch_code': True,     'pitch_description': True,\n",
    "    'outcome_code': True,           'outcome_description': True,    'temp': False,\n",
    "    'weather_cond': True,           'wind_mph': False,              'wind_dir': True\n",
    "}"
   ]
  },
  {
   "cell_type": "markdown",
   "metadata": {},
   "source": [
    "Load the data from the files "
   ]
  },
  {
   "cell_type": "code",
   "execution_count": 6,
   "metadata": {
    "pycharm": {
     "is_executing": false
    }
   },
   "outputs": [],
   "source": [
    "# load data, calculate new columns, join data - optional number of records parameter\n",
    "all_df = load_data(10000) # pick the first n records if desired\n",
    "#all_df = load_data()\n",
    "#all_df = all_df[(all_df['date'] >= '2018-01-01') & (all_df['date'] <= '2018-12-31')]  # 2018"
   ]
  },
  {
   "cell_type": "markdown",
   "metadata": {},
   "source": [
    "Data for baseline statistics"
   ]
  },
  {
   "cell_type": "code",
   "execution_count": 7,
   "metadata": {
    "pycharm": {
     "is_executing": false
    }
   },
   "outputs": [
    {
     "name": "stderr",
     "text": [
      "Note: NumExpr detected 12 cores but \"NUMEXPR_MAX_THREADS\" not set, so enforcing safe limit of 8.\n",
      "NumExpr defaulting to 8 threads.\n"
     ],
     "output_type": "stream"
    },
    {
     "data": {
      "text/plain": "   outcome_code        outcome_description  outcome_count  outcome_prob\n0            *B               Ball in Dirt            188      0.018826\n1             B                       Ball           3257      0.326157\n2             C              Called Strike           1768      0.177048\n3             D           In Play, No Outs            388      0.038854\n4             E              In Play, Runs            180      0.018025\n5             F                       Foul           1752      0.175446\n6             H               Hit by pitch             29      0.002904\n7             I           Intentional Ball             57      0.005708\n8             L                  Foul Bunt             22      0.002203\n9             M                Missed Bunt              5      0.000501\n10            P                   Pitchout              3      0.000300\n11            S            Swinging Strike            954      0.095534\n12            T                   Foul Tip             76      0.007611\n13            W  Swinging Strike (Blocked)             74      0.007410\n14            X            In Play, Out(s)           1233      0.123473",
      "text/html": "<div>\n<style scoped>\n    .dataframe tbody tr th:only-of-type {\n        vertical-align: middle;\n    }\n\n    .dataframe tbody tr th {\n        vertical-align: top;\n    }\n\n    .dataframe thead th {\n        text-align: right;\n    }\n</style>\n<table border=\"1\" class=\"dataframe\">\n  <thead>\n    <tr style=\"text-align: right;\">\n      <th></th>\n      <th>outcome_code</th>\n      <th>outcome_description</th>\n      <th>outcome_count</th>\n      <th>outcome_prob</th>\n    </tr>\n  </thead>\n  <tbody>\n    <tr>\n      <td>0</td>\n      <td>*B</td>\n      <td>Ball in Dirt</td>\n      <td>188</td>\n      <td>0.018826</td>\n    </tr>\n    <tr>\n      <td>1</td>\n      <td>B</td>\n      <td>Ball</td>\n      <td>3257</td>\n      <td>0.326157</td>\n    </tr>\n    <tr>\n      <td>2</td>\n      <td>C</td>\n      <td>Called Strike</td>\n      <td>1768</td>\n      <td>0.177048</td>\n    </tr>\n    <tr>\n      <td>3</td>\n      <td>D</td>\n      <td>In Play, No Outs</td>\n      <td>388</td>\n      <td>0.038854</td>\n    </tr>\n    <tr>\n      <td>4</td>\n      <td>E</td>\n      <td>In Play, Runs</td>\n      <td>180</td>\n      <td>0.018025</td>\n    </tr>\n    <tr>\n      <td>5</td>\n      <td>F</td>\n      <td>Foul</td>\n      <td>1752</td>\n      <td>0.175446</td>\n    </tr>\n    <tr>\n      <td>6</td>\n      <td>H</td>\n      <td>Hit by pitch</td>\n      <td>29</td>\n      <td>0.002904</td>\n    </tr>\n    <tr>\n      <td>7</td>\n      <td>I</td>\n      <td>Intentional Ball</td>\n      <td>57</td>\n      <td>0.005708</td>\n    </tr>\n    <tr>\n      <td>8</td>\n      <td>L</td>\n      <td>Foul Bunt</td>\n      <td>22</td>\n      <td>0.002203</td>\n    </tr>\n    <tr>\n      <td>9</td>\n      <td>M</td>\n      <td>Missed Bunt</td>\n      <td>5</td>\n      <td>0.000501</td>\n    </tr>\n    <tr>\n      <td>10</td>\n      <td>P</td>\n      <td>Pitchout</td>\n      <td>3</td>\n      <td>0.000300</td>\n    </tr>\n    <tr>\n      <td>11</td>\n      <td>S</td>\n      <td>Swinging Strike</td>\n      <td>954</td>\n      <td>0.095534</td>\n    </tr>\n    <tr>\n      <td>12</td>\n      <td>T</td>\n      <td>Foul Tip</td>\n      <td>76</td>\n      <td>0.007611</td>\n    </tr>\n    <tr>\n      <td>13</td>\n      <td>W</td>\n      <td>Swinging Strike (Blocked)</td>\n      <td>74</td>\n      <td>0.007410</td>\n    </tr>\n    <tr>\n      <td>14</td>\n      <td>X</td>\n      <td>In Play, Out(s)</td>\n      <td>1233</td>\n      <td>0.123473</td>\n    </tr>\n  </tbody>\n</table>\n</div>"
     },
     "metadata": {},
     "output_type": "execute_result",
     "execution_count": 7
    }
   ],
   "source": [
    "# pitch outcomes\n",
    "outcome_df = all_df.groupby(['outcome_code', 'outcome_description']).size().reset_index(name='outcome_count')\n",
    "outcome_df['outcome_prob']= outcome_df['outcome_count']/outcome_df['outcome_count'].sum()\n",
    "outcome_df"
   ]
  },
  {
   "cell_type": "code",
   "execution_count": 8,
   "metadata": {
    "pycharm": {
     "is_executing": false
    }
   },
   "outputs": [
    {
     "data": {
      "text/plain": "<Figure size 432x288 with 1 Axes>",
      "image/png": "[encoded data removed]"
     },
     "metadata": {
      "needs_background": "light"
     },
     "output_type": "display_data"
    }
   ],
   "source": [
    "# bar chart of pitch outcomes\n",
    "objects = outcome_df.outcome_description\n",
    "y_pos = np.arange(len(outcome_df.outcome_description))\n",
    "performance = outcome_df.outcome_count\n",
    "\n",
    "plt.barh(y_pos, performance, align='center', alpha=0.5)\n",
    "plt.yticks(y_pos, objects)\n",
    "plt.xlabel('Pitches')\n",
    "plt.title('MLB 2015-2018')\n",
    "\n",
    "plt.show()"
   ]
  },
  {
   "cell_type": "code",
   "execution_count": 9,
   "metadata": {
    "pycharm": {
     "is_executing": false
    }
   },
   "outputs": [
    {
     "data": {
      "text/plain": "   pitch_code   pitch_description  pitch_type_count  pitch_prob\n0          CH            Changeup               972    0.097336\n1          CU           Curveball               736    0.073703\n2          EP              Eephus                 2    0.000200\n3          FC              Cutter               553    0.055378\n4          FF  Four-seam Fastball              3444    0.344883\n5          FO            Pitchout                 2    0.000200\n6          FS            Splitter               162    0.016223\n7          FT   Two-seam Fastball              1387    0.138894\n8          IN   Intentionall ball                57    0.005708\n9          KC       Knuckle curve               175    0.017525\n10         PO            Pitchout                 3    0.000300\n11         SI              Sinker               987    0.098838\n12         SL              Slider              1506    0.150811",
      "text/html": "<div>\n<style scoped>\n    .dataframe tbody tr th:only-of-type {\n        vertical-align: middle;\n    }\n\n    .dataframe tbody tr th {\n        vertical-align: top;\n    }\n\n    .dataframe thead th {\n        text-align: right;\n    }\n</style>\n<table border=\"1\" class=\"dataframe\">\n  <thead>\n    <tr style=\"text-align: right;\">\n      <th></th>\n      <th>pitch_code</th>\n      <th>pitch_description</th>\n      <th>pitch_type_count</th>\n      <th>pitch_prob</th>\n    </tr>\n  </thead>\n  <tbody>\n    <tr>\n      <td>0</td>\n      <td>CH</td>\n      <td>Changeup</td>\n      <td>972</td>\n      <td>0.097336</td>\n    </tr>\n    <tr>\n      <td>1</td>\n      <td>CU</td>\n      <td>Curveball</td>\n      <td>736</td>\n      <td>0.073703</td>\n    </tr>\n    <tr>\n      <td>2</td>\n      <td>EP</td>\n      <td>Eephus</td>\n      <td>2</td>\n      <td>0.000200</td>\n    </tr>\n    <tr>\n      <td>3</td>\n      <td>FC</td>\n      <td>Cutter</td>\n      <td>553</td>\n      <td>0.055378</td>\n    </tr>\n    <tr>\n      <td>4</td>\n      <td>FF</td>\n      <td>Four-seam Fastball</td>\n      <td>3444</td>\n      <td>0.344883</td>\n    </tr>\n    <tr>\n      <td>5</td>\n      <td>FO</td>\n      <td>Pitchout</td>\n      <td>2</td>\n      <td>0.000200</td>\n    </tr>\n    <tr>\n      <td>6</td>\n      <td>FS</td>\n      <td>Splitter</td>\n      <td>162</td>\n      <td>0.016223</td>\n    </tr>\n    <tr>\n      <td>7</td>\n      <td>FT</td>\n      <td>Two-seam Fastball</td>\n      <td>1387</td>\n      <td>0.138894</td>\n    </tr>\n    <tr>\n      <td>8</td>\n      <td>IN</td>\n      <td>Intentionall ball</td>\n      <td>57</td>\n      <td>0.005708</td>\n    </tr>\n    <tr>\n      <td>9</td>\n      <td>KC</td>\n      <td>Knuckle curve</td>\n      <td>175</td>\n      <td>0.017525</td>\n    </tr>\n    <tr>\n      <td>10</td>\n      <td>PO</td>\n      <td>Pitchout</td>\n      <td>3</td>\n      <td>0.000300</td>\n    </tr>\n    <tr>\n      <td>11</td>\n      <td>SI</td>\n      <td>Sinker</td>\n      <td>987</td>\n      <td>0.098838</td>\n    </tr>\n    <tr>\n      <td>12</td>\n      <td>SL</td>\n      <td>Slider</td>\n      <td>1506</td>\n      <td>0.150811</td>\n    </tr>\n  </tbody>\n</table>\n</div>"
     },
     "metadata": {},
     "output_type": "execute_result",
     "execution_count": 9
    }
   ],
   "source": [
    "# pitch outcomes\n",
    "pitch_df = all_df.groupby(['pitch_code', 'pitch_description']).size().reset_index(name='pitch_type_count')\n",
    "\n",
    "pitch_df['pitch_prob']= pitch_df['pitch_type_count']/pitch_df['pitch_type_count'].sum()\n",
    "pitch_df"
   ]
  },
  {
   "cell_type": "code",
   "execution_count": 10,
   "metadata": {
    "pycharm": {
     "is_executing": false
    }
   },
   "outputs": [
    {
     "data": {
      "text/plain": "<Figure size 432x288 with 1 Axes>",
      "image/png": "[encoded data removed]"
     },
     "metadata": {
      "needs_background": "light"
     },
     "output_type": "display_data"
    }
   ],
   "source": [
    "# bar chart of pitch types\n",
    "objects = pitch_df.pitch_description\n",
    "y_pos = np.arange(len(pitch_df.pitch_description))\n",
    "performance = pitch_df.pitch_type_count\n",
    "\n",
    "plt.barh(y_pos, performance, align='center', alpha=0.5)\n",
    "plt.yticks(y_pos, objects)\n",
    "plt.xlabel('Pitches')\n",
    "plt.title('MLB 2015-2018')\n",
    "\n",
    "plt.show()"
   ]
  },
  {
   "cell_type": "code",
   "execution_count": 11,
   "metadata": {
    "pycharm": {
     "is_executing": false
    }
   },
   "outputs": [],
   "source": [
    "# create one list of variables for each test you want to run\n",
    "var_list = []\n",
    "\n",
    "# this list has all the predictors known before a pitch takes place\n",
    "# var_list.append(['b_score', 'b_count', 's_count','pitch_num', 'on_1b', 'on_2b', 'on_3b', 'batter_id', 'inning', 'o',\n",
    "#                  'p_score', 'p_throws', 'stand', 'top', 'batter_id', 'pitcher_id',\n",
    "#                  'away_team', 'home_team', 'umpire_HP','venue_name', 'temp', 'weather_cond',\n",
    "#                  'wind_mph', 'wind_dir', 'delay'])\n",
    "\n",
    "# this section for passing in fixed lists of predictors\n",
    "# This list has the best prediction so far\n",
    "var_list.append(['top', 'on_1b', 'on_2b', 'on_3b', 'o', 'p_score', 'stand', 'delay', 'b_count', 's_count',\n",
    "               'pitcher_id', 'pitch_num'])\n",
    "# var_list.append(['pitch_num', 'top', 'on_1b', 'on_2b', 'on_3b', 'o', 'p_score', 'stand', 'delay', 'b_count', 's_count', 'pitcher_id'])\n",
    "fixed_vars = []\n",
    "\n",
    "# this section for mixing a fixed number of predictors with a set number of predictors\n",
    "# put the list of fixed predictors in the fixed_vars list\n",
    "# put the mutually exclusive list of candidate predictors is the var_options list\n",
    "\n",
    "# var_options = []\n",
    "# fixed_vars  =['top', 'on_1b', 'on_2b', 'on_3b', 'o', 'p_score', 'stand', 'delay', 'b_count', 's_count',\n",
    "#               'pitcher_id', 'pitch_num']\n",
    "# var_options.append(['b_score', 'batter_id', 'inning', 'p_throws',\n",
    "#                  'away_team', 'home_team', 'umpire_HP','venue_name', 'temp',\n",
    "#                  'weather_cond', 'wind_mph', 'wind_dir'])\n",
    "# var_list = list(combinations(var_options[0], 1))\n",
    "# random.shuffle(var_list)\n",
    "\n",
    "\n",
    "# factorize dependent variable\n",
    "factor = pd.factorize(all_df['pitch_code'])\n",
    "pitch_code_def = factor[1]\n"
   ]
  },
  {
   "cell_type": "markdown",
   "metadata": {},
   "source": [
    "Linear Model (fails to converge)"
   ]
  },
  {
   "cell_type": "code",
   "execution_count": 12,
   "metadata": {
    "pycharm": {
     "is_executing": false
    }
   },
   "outputs": [],
   "source": [
    "# loop through different combinations of predictors and run linear model\n",
    "# NOTE: the linear model doesn't converge\n",
    "# for idx, vars in enumerate(var_list):\n",
    "#     var1 = list(vars)\n",
    "#     var1.extend(fixed_vars)\n",
    "#     vars = var1\n",
    "#\n",
    "#     # one-hot encode all necessary data and split into test/training data\n",
    "#     X, y = encode_data(all_df, x_col_list=vars, y_col='pitch_code', avail_cols=avail_cols,\n",
    "#                        y_encode='factorize', factor=factor)\n",
    "#\n",
    "#     X_train, X_test, y_train, y_test = train_test_split(X, y, test_size=0.2, random_state=0, shuffle=False)\n",
    "#\n",
    "#     X_train = sklearn.preprocessing.scale(X_train, copy=False)\n",
    "#     X_test = sklearn.preprocessing.scale(X_test, copy=False)\n",
    "#\n",
    "#     mul_lr = linear_model.LogisticRegression(multi_class='multinomial', solver='saga').fit(X_train, y_train)"
   ]
  },
  {
   "cell_type": "markdown",
   "metadata": {},
   "source": [
    "Start of Random Forest calculations"
   ]
  },
  {
   "cell_type": "code",
   "execution_count": 13,
   "metadata": {
    "pycharm": {
     "is_executing": false
    }
   },
   "outputs": [
    {
     "name": "stderr",
     "text": [
      "\nRandom Forest Test 0\n",
      "['top', 'on_1b', 'on_2b', 'on_3b', 'o', 'p_score', 'stand', 'delay', 'b_count', 's_count', 'pitcher_id', 'pitch_num']\n",
      "     FF  CU  FC  SI  CH  FT  IN  SL  KC  EP  FS  FO  PO\nFF  561   7   0   3  22  46   0  71   0   0   0   0   0\nCU   85   2   0   0   1   6   0  10   0   0   0   0   0\nFC   45   1   0   0   4   4   0   8   0   0   0   0   0\nSI  264   1   0  10  15  16   0  45   0   0   0   0   0\nCH  122   3   0   4   8   4   0  13   0   0   0   0   0\nFT  165   3   0   0  10  13   0  19   0   0   0   0   0\nIN   20   0   0   0   0   1   2   1   0   0   0   0   0\nSL  254   9   1   2  10  16   0  43   0   0   0   0   0\nKC   16   2   0   0   1   0   0   1   0   0   0   0   0\nEP    0   0   0   0   0   0   0   0   0   0   0   0   0\nFS   20   1   0   0   4   0   0   2   0   0   0   0   0\nFO    0   0   0   0   0   0   0   0   0   0   0   0   0\nPO    1   0   0   0   0   0   0   0   0   0   0   0   0\n",
      "\n                   importance\np_score              0.076784\npitch_num            0.070504\non_1b                0.034762\no_1                  0.031179\no_2                  0.030175\no_3                  0.027673\nb_count_1.0          0.024752\non_2b                0.022507\nb_count_0.0          0.022109\ntop                  0.019781\nb_count_2.0          0.017597\non_3b                0.016027\ns_count_1.0          0.015412\ndelay                0.015045\no_0                  0.014734\ns_count_2.0          0.014576\nstand_L              0.013537\ns_count_0.0          0.013055\nstand_R              0.012648\npitcher_id_518567    0.010836\npitcher_id_622072    0.010307\npitcher_id_444857    0.009938\npitcher_id_547874    0.009539\nb_count_3.0          0.009221\npitcher_id_543606    0.009100\npitcher_id_452718    0.008779\npitcher_id_547888    0.008503\npitcher_id_425794    0.008156\npitcher_id_534910    0.007975\npitcher_id_433587    0.007923\npitcher_id_446372    0.007759\npitcher_id_501992    0.007616\npitcher_id_450351    0.007236\npitcher_id_346798    0.007119\npitcher_id_572971    0.006796\npitcher_id_448306    0.005922\npitcher_id_501957    0.005874\npitcher_id_519144    0.005856\npitcher_id_450308    0.005729\npitcher_id_543408    0.005617\npitcher_id_453329    0.005605\npitcher_id_571946    0.005304\npitcher_id_533167    0.005302\npitcher_id_502188    0.005286\npitcher_id_502154    0.005209\npitcher_id_543243    0.005091\npitcher_id_430935    0.005034\npitcher_id_285064    0.004997\npitcher_id_572020    0.004815\npitcher_id_452657    0.004753\npitcher_id_456068    0.004743\npitcher_id_500779    0.004740\npitcher_id_456034    0.004713\npitcher_id_461833    0.004710\npitcher_id_421685    0.004678\npitcher_id_451596    0.004646\npitcher_id_543272    0.004639\npitcher_id_570649    0.004474\npitcher_id_543475    0.004442\npitcher_id_612672    0.004401\npitcher_id_503449    0.004317\npitcher_id_523989    0.004313\npitcher_id_477132    0.004299\npitcher_id_518633    0.004283\npitcher_id_572750    0.004148\npitcher_id_518516    0.004113\npitcher_id_490063    0.004092\npitcher_id_112526    0.004058\npitcher_id_502042    0.004057\npitcher_id_407890    0.003962\npitcher_id_453286    0.003954\npitcher_id_471911    0.003753\npitcher_id_571800    0.003732\npitcher_id_434538    0.003686\npitcher_id_434718    0.003316\npitcher_id_542914    0.003301\npitcher_id_506693    0.003204\npitcher_id_456501    0.003168\npitcher_id_605177    0.003050\npitcher_id_459987    0.002957\npitcher_id_475115    0.002768\npitcher_id_462382    0.002760\npitcher_id_502026    0.002737\npitcher_id_474029    0.002719\npitcher_id_502009    0.002684\npitcher_id_527054    0.002522\npitcher_id_425840    0.002520\npitcher_id_475138    0.002480\npitcher_id_473879    0.002458\npitcher_id_448178    0.002433\npitcher_id_408061    0.002395\npitcher_id_571901    0.002392\npitcher_id_518553    0.002341\npitcher_id_445926    0.002246\npitcher_id_518617    0.002172\npitcher_id_544993    0.002164\npitcher_id_457768    0.002158\npitcher_id_451584    0.002153\npitcher_id_605476    0.002096\npitcher_id_425844    0.002014\npitcher_id_518468    0.001970\npitcher_id_455119    0.001916\npitcher_id_594792    0.001916\npitcher_id_502004    0.001891\npitcher_id_543144    0.001874\npitcher_id_592804    0.001866\npitcher_id_453265    0.001865\npitcher_id_458677    0.001802\npitcher_id_447714    0.001776\npitcher_id_491646    0.001775\npitcher_id_542960    0.001755\npitcher_id_501925    0.001748\npitcher_id_544727    0.001739\npitcher_id_502202    0.001731\npitcher_id_477569    0.001674\npitcher_id_607309    0.001596\npitcher_id_493603    0.001585\npitcher_id_445197    0.001584\npitcher_id_543766    0.001580\npitcher_id_518603    0.001558\npitcher_id_455009    0.001504\npitcher_id_503285    0.001494\npitcher_id_592332    0.001481\npitcher_id_115629    0.001451\npitcher_id_433586    0.001426\npitcher_id_554340    0.001413\npitcher_id_500721    0.001407\npitcher_id_518875    0.001402\npitcher_id_450212    0.001378\npitcher_id_592102    0.001361\npitcher_id_446899    0.001320\npitcher_id_542669    0.001314\npitcher_id_452666    0.001297\npitcher_id_435043    0.001277\npitcher_id_467008    0.001275\npitcher_id_592741    0.001231\npitcher_id_453156    0.001203\npitcher_id_516969    0.001189\npitcher_id_543242    0.001188\npitcher_id_573109    0.001176\npitcher_id_621397    0.001151\npitcher_id_472610    0.001149\npitcher_id_489446    0.001117\npitcher_id_605309    0.001079\npitcher_id_407845    0.001058\npitcher_id_592533    0.001055\npitcher_id_407908    0.001042\npitcher_id_519293    0.001028\npitcher_id_517414    0.001015\npitcher_id_444468    0.001002\npitcher_id_451085    0.000990\npitcher_id_477229    0.000988\npitcher_id_543184    0.000984\npitcher_id_542924    0.000979\npitcher_id_502578    0.000978\npitcher_id_571704    0.000977\npitcher_id_449097    0.000976\npitcher_id_543883    0.000973\npitcher_id_501789    0.000947\npitcher_id_433589    0.000932\npitcher_id_457429    0.000925\npitcher_id_593372    0.000923\npitcher_id_502304    0.000901\npitcher_id_592329    0.000882\npitcher_id_346797    0.000875\npitcher_id_592665    0.000859\npitcher_id_276542    0.000855\npitcher_id_547749    0.000850\npitcher_id_501822    0.000847\npitcher_id_276351    0.000842\npitcher_id_543726    0.000842\npitcher_id_543359    0.000838\npitcher_id_276514    0.000825\npitcher_id_448614    0.000787\npitcher_id_519267    0.000766\npitcher_id_424144    0.000762\npitcher_id_448609    0.000755\npitcher_id_572096    0.000754\npitcher_id_518886    0.000743\npitcher_id_434442    0.000737\npitcher_id_457117    0.000713\npitcher_id_518927    0.000677\npitcher_id_462089    0.000674\npitcher_id_435400    0.000673\npitcher_id_605359    0.000659\npitcher_id_457435    0.000652\npitcher_id_543339    0.000648\npitcher_id_429783    0.000631\npitcher_id_573046    0.000600\npitcher_id_462945    0.000591\npitcher_id_475479    0.000587\npitcher_id_489265    0.000586\npitcher_id_457915    0.000585\npitcher_id_519166    0.000575\npitcher_id_491703    0.000557\npitcher_id_612434    0.000535\npitcher_id_502381    0.000529\npitcher_id_430630    0.000511\npitcher_id_446099    0.000503\npitcher_id_474521    0.000485\npitcher_id_466948    0.000484\npitcher_id_504379    0.000465\npitcher_id_501593    0.000465\npitcher_id_425492    0.000463\npitcher_id_460283    0.000445\npitcher_id_472551    0.000428\npitcher_id_234194    0.000409\npitcher_id_518813    0.000396\npitcher_id_468396    0.000394\npitcher_id_458584    0.000390\npitcher_id_425786    0.000365\npitcher_id_346793    0.000363\npitcher_id_518703    0.000360\npitcher_id_444935    0.000325\npitcher_id_520980    0.000323\npitcher_id_445612    0.000305\npitcher_id_572089    0.000285\npitcher_id_501625    0.000275\npitcher_id_571057    0.000249\npitcher_id_488984    0.000246\npitcher_id_547973    0.000218\npitcher_id_150274    0.000206\npitcher_id_469134    0.000191\npitcher_id_519240    0.000144\npitcher_id_449079    0.000141\npitcher_id_425657    0.000140\npitcher_id_407819    0.000139\npitcher_id_491159    0.000111\npitcher_id_471822    0.000081\npitcher_id_448159    0.000040\npitcher_id_553970    0.000000\npitcher_id_595014    0.000000\npitcher_id_453562    0.000000\npitcher_id_453343    0.000000\npitcher_id_453172    0.000000\npitcher_id_606160    0.000000\npitcher_id_446321    0.000000\npitcher_id_455374    0.000000\npitcher_id_445060    0.000000\npitcher_id_435221    0.000000\npitcher_id_434671    0.000000\npitcher_id_431162    0.000000\npitcher_id_431148    0.000000\npitcher_id_430641    0.000000\npitcher_id_279571    0.000000\npitcher_id_594798    0.000000\npitcher_id_458681    0.000000\npitcher_id_456379    0.000000\npitcher_id_457744    0.000000\npitcher_id_543779    0.000000\npitcher_id_543746    0.000000\npitcher_id_571561    0.000000\npitcher_id_543331    0.000000\npitcher_id_543037    0.000000\npitcher_id_571871    0.000000\npitcher_id_519455    0.000000\npitcher_id_519322    0.000000\npitcher_id_518790    0.000000\npitcher_id_502190    0.000000\npitcher_id_489334    0.000000\npitcher_id_488768    0.000000\npitcher_id_488674    0.000000\npitcher_id_476451    0.000000\npitcher_id_467785    0.000000\npitcher_id_465657    0.000000\npitcher_id_548337    0.000000\npitcher_id_491708    0.000000\n",
      "Random Forest accuracy 0.31981981981981983\n",
      "Model time: 1.4 [sec]\n"
     ],
     "output_type": "stream"
    }
   ],
   "source": [
    "#loop through different combinations of predictors and run random forest calculations\n",
    "for idx, vars in enumerate(var_list):\n",
    "\n",
    "    # one-hot encode all necessary data and split into test/training data\n",
    "    X, y = encode_data(all_df, x_col_list=vars, y_col='pitch_code', avail_cols=avail_cols,\n",
    "                       y_encode='factorize', factor=factor)\n",
    "    #X = sklearn.preprocessing.scale(X)\n",
    "\n",
    "    X_train, X_test, y_train, y_test = train_test_split(X, y, test_size=0.2, random_state=0, shuffle=False)\n",
    "    X_train = sklearn.preprocessing.scale(X_train, copy=False)\n",
    "    X_test = sklearn.preprocessing.scale(X_test, copy=False)\n",
    "\n",
    "    t1_start = time.perf_counter()\n",
    "\n",
    "    # create and train random forest model\n",
    "    classifier = RandomForestClassifier(n_estimators = 50, criterion = 'entropy', random_state = 42)\n",
    "    classifier.fit(X_train, y_train)\n",
    "\n",
    "    # predict test data\n",
    "    y_pred = classifier.predict(X_test)\n",
    "\n",
    "    t1_stop = time.perf_counter()\n",
    "    elapsed_time = t1_stop - t1_start\n",
    "\n",
    "    # print metrics for random forest model\n",
    "    eval_rf(y_test, y_pred, classifier, factor, idx, vars, elapsed_time, X.columns)"
   ]
  },
  {
   "cell_type": "markdown",
   "metadata": {
    "pycharm": {
     "is_executing": true
    }
   },
   "source": [
    "K-Nearest Neighbor"
   ]
  },
  {
   "cell_type": "code",
   "execution_count": 14,
   "metadata": {
    "pycharm": {
     "is_executing": false
    }
   },
   "outputs": [
    {
     "name": "stderr",
     "text": [
      "\nKNN Test 0\n",
      "['top', 'on_1b', 'on_2b', 'on_3b', 'o', 'p_score', 'stand', 'delay', 'b_count', 's_count', 'pitcher_id', 'pitch_num']\n",
      "     FF  CU  FC  SI  CH  FT  IN  SL  KC  EP  FS  FO  PO\nFF  378  73  52  23  32  74   0  78   0   0   0   0   0\nCU   58  11   5   4   7   8   0  11   0   0   0   0   0\nFC   37   3   4   2   6   6   0   4   0   0   0   0   0\nSI  207  25  24  19  14  39   0  23   0   0   0   0   0\nCH   73  16  13  12   1  21   0  18   0   0   0   0   0\nFT  107  20  13  16  12  27   0  15   0   0   0   0   0\nIN   12   0   5   4   0   0   1   2   0   0   0   0   0\nSL  187  39   9   9  14  38   0  39   0   0   0   0   0\nKC   13   2   1   1   1   2   0   0   0   0   0   0   0\nEP    0   0   0   0   0   0   0   0   0   0   0   0   0\nFS   15   1   7   0   2   1   0   1   0   0   0   0   0\nFO    0   0   0   0   0   0   0   0   0   0   0   0   0\nPO    0   0   1   0   0   0   0   0   0   0   0   0   0\n",
      "KNN accuracy 0.24024024024024024\n",
      "Model time: 9.9 [sec]\n"
     ],
     "output_type": "stream"
    }
   ],
   "source": [
    "#loop through different combinations of predictors and run k-nearest neighbor\n",
    "for idx, vars in enumerate(var_list):\n",
    "    # add the fixed vars to the random ones\n",
    "    var1 = list(vars)\n",
    "    var1.extend(fixed_vars)\n",
    "    vars = var1\n",
    "\n",
    "    # one-hot encode all necessary data and split into test/training data\n",
    "    X, y = encode_data(all_df, x_col_list=vars, y_col='pitch_code', avail_cols=avail_cols,\n",
    "                       y_encode='factorize', factor=factor)\n",
    "\n",
    "    X_train, X_test, y_train, y_test = train_test_split(X, y, test_size=0.2, random_state=0, shuffle=False)\n",
    "\n",
    "    X_train = sklearn.preprocessing.scale(X_train, copy=False)\n",
    "    X_test = sklearn.preprocessing.scale(X_test, copy=False)\n",
    "\n",
    "    t1_start = time.perf_counter()\n",
    "\n",
    "    knn = KNeighborsClassifier(n_neighbors=5, metric='euclidean')\n",
    "    knn.fit(X_train, y_train)\n",
    "\n",
    "    y_pred = knn.predict(X_test)\n",
    "\n",
    "    t1_stop = time.perf_counter()\n",
    "    elapsed_time = t1_stop - t1_start\n",
    "    eval_knn(y_test, y_pred, factor, idx, vars, elapsed_time)"
   ]
  },
  {
   "cell_type": "markdown",
   "metadata": {},
   "source": [
    "SVC"
   ]
  },
  {
   "cell_type": "code",
   "execution_count": null,
   "metadata": {
    "pycharm": {
     "is_executing": true
    }
   },
   "outputs": [
    {
     "name": "stderr",
     "text": [
      "/Library/Frameworks/Python.framework/Versions/3.7/lib/python3.7/site-packages/sklearn/svm/base.py:193: FutureWarning: The default value of gamma will change from 'auto' to 'scale' in version 0.22 to account better for unscaled features. Set gamma explicitly to 'auto' or 'scale' to avoid this warning.\n  \"avoid this warning.\", FutureWarning)\n"
     ],
     "output_type": "stream"
    }
   ],
   "source": [
    "#loop through different combinations of predictors and run SVM calculations\n",
    "for idx, vars in enumerate(var_list):\n",
    "\n",
    "    # one-hot encode all necessary data and split into test/training data\n",
    "    X, y = encode_data(all_df, x_col_list=vars, y_col='pitch_code', avail_cols=avail_cols,\n",
    "                       y_encode='factorize', factor=factor)\n",
    "\n",
    "    X_train, X_test, y_train, y_test = train_test_split(X, y, test_size=0.2, random_state=0, shuffle=False)\n",
    "    X_train = sklearn.preprocessing.scale(X_train, copy=False)\n",
    "    X_test = sklearn.preprocessing.scale(X_test, copy=False)\n",
    "\n",
    "    # tuned the SVC model on a small (10K) number of records using grid search\n",
    "    #params_grid = [{'kernel': ['rbf'], 'gamma': [0.1, 1, 10, 100], 'C': [0.1, 1, 10, 100, 1000]},\n",
    "    #               {'kernel': ['poly'], 'degree': [1,2,3,4,5,6], 'C': [0.1, 1, 10, 100, 1000]}\n",
    "    #               # ,{'kernel': ['linear'], 'C': [1, 10, 100, 1000]} # linear classifier not suitable for this data\n",
    "    #               ]\n",
    "    #svm_model = GridSearchCV(SVC(gamma='auto'), params_grid, cv=2)\n",
    "    #print('Best score for training data:', svm_model.best_score_, \"\\n\")\n",
    "    #print('Best C:', svm_model.best_estimator_.C, \"\\n\")\n",
    "    #print('Best Kernel:', svm_model.best_estimator_.kernel, \"\\n\")\n",
    "    #print('Best Gamma:', svm_model.best_estimator_.gamma, \"\\n\")\n",
    "    #final_model = svm_model.best_estimator_\n",
    "\n",
    "    t1_start = time.perf_counter()\n",
    "\n",
    "    # used grid search to find best parameters\n",
    "    final_model= SVC(C=1, kernel='poly', degree=1)\n",
    "    final_model.fit(X_train, y_train)\n",
    "\n",
    "    y_pred = final_model.predict(X_test)\n",
    "\n",
    "    t1_stop = time.perf_counter()\n",
    "    elapsed_time = t1_stop - t1_start\n",
    "\n",
    "    eval_svc(y_test, y_pred, factor, idx, vars, elapsed_time)"
   ]
  },
  {
   "cell_type": "markdown",
   "metadata": {},
   "source": [
    "Start of Multi-layer network (MLP)"
   ]
  },
  {
   "cell_type": "code",
   "execution_count": null,
   "metadata": {
    "pycharm": {
     "is_executing": true
    }
   },
   "outputs": [],
   "source": [
    "# loop through different combinations of predictors and run neural network calculations\n",
    "for idx, vars in enumerate(var_list):\n",
    "    # add the fixed vars to the random ones\n",
    "    var1 = list(vars)\n",
    "    var1.extend(fixed_vars)\n",
    "    vars = var1\n",
    "\n",
    "    # one-hot encode all necessary data and split into test/training data\n",
    "    X, y = encode_data(all_df, x_col_list=vars, y_col='pitch_code', avail_cols=avail_cols,\n",
    "                       y_encode='onehot', factor=factor)\n",
    "\n",
    "    X_train, X_test, y_train, y_test = train_test_split(X, y, test_size=0.2, random_state=0, shuffle=False)\n",
    "\n",
    "    X_train = sklearn.preprocessing.scale(X_train, copy=False)\n",
    "    X_test = sklearn.preprocessing.scale(X_test, copy=False)\n",
    "\n",
    "    t1_start = time.perf_counter()\n",
    "\n",
    "    model = Sequential()\n",
    "    model.add(Dense(512, input_dim=np.size(X_train,1), activation='relu'))\n",
    "    model.add(Dense(256, input_dim=np.size(X_train,1), activation='relu'))\n",
    "    model.add(Dense(np.size(y_train,1), activation='softmax'))\n",
    "    model.compile(loss='categorical_crossentropy', optimizer='adam', metrics=['accuracy'])\n",
    "\n",
    "    history = model.fit(X_train,\n",
    "                        y_train,\n",
    "                        epochs=10,\n",
    "                        batch_size=512,\n",
    "                        validation_data=(X_test, y_test),\n",
    "                        verbose=True)\n",
    "\n",
    "    y_pred = model.predict(X_test)\n",
    "\n",
    "    #matrix = metrics.confusion_matrix(y_test.argmax(axis=1), y_pred.argmax(axis=1))\n",
    "\n",
    "    t1_stop = time.perf_counter()\n",
    "    elapsed_time = t1_stop - t1_start\n",
    "\n",
    "    factor = pd.factorize([x.split('pitch_code_')[1] for x in y_test.columns])\n",
    "    eval_nn(np.array(y_test).argmax(axis=1), y_pred.argmax(axis=1), history, factor, idx, vars, elapsed_time)"
   ]
  },
  {
   "cell_type": "code",
   "execution_count": null,
   "metadata": {
    "pycharm": {
     "is_executing": true
    }
   },
   "outputs": [],
   "source": [
    "# experimenting with FastAI\n",
    "from fastai.tabular import *\n",
    "\n",
    "for idx, vars in enumerate(var_list):\n",
    "    # have to add the dependent variable back in\n",
    "    fastai_var_list = vars\n",
    "    fastai_var_list.append('pitch_code')\n",
    "    df = all_df[fastai_var_list]\n",
    "    procs = [FillMissing, Categorify, Normalize]\n",
    "    dep_var = 'pitch_code'\n",
    "    len = len(df)\n",
    "    valid_idx = range(len-(int(len*.2)), len)\n",
    "    cat_names = ['o', 'stand', 'b_count', 's_count', 'pitcher_id']\n",
    "    procs = [FillMissing, Categorify, Normalize]\n",
    "\n",
    "    data = TabularDataBunch.from_df('.', df, dep_var, valid_idx=valid_idx, procs=procs, cat_names=cat_names)\n",
    "    print(data.train_ds.cont_names)  # `cont_names` defaults to: set(df)-set(cat_names)-{dep_var}\n",
    "\n",
    "    logger.info('FastAI Model')\n",
    "    t1_start = time.perf_counter()\n",
    "\n",
    "    learn = tabular_learner(data, layers=[512,256], emb_szs={'native-country': 10}, metrics=accuracy)\n",
    "    learn.fit_one_cycle(8, 1e-2)\n",
    "    t1_stop = time.perf_counter()\n",
    "    elapsed_time = t1_stop - t1_start\n",
    "\n",
    "    logger.info('Model time: %.1f [sec]' % (elapsed_time))\n"
   ]
  }
 ],
 "metadata": {
  "kernelspec": {
   "display_name": "Python 3",
   "language": "python",
   "name": "python3"
  },
  "language_info": {
   "codemirror_mode": {
    "name": "ipython",
    "version": 3
   },
   "file_extension": ".py",
   "mimetype": "text/x-python",
   "name": "python",
   "nbconvert_exporter": "python",
   "pygments_lexer": "ipython3",
   "version": "3.7.4"
  },
  "pycharm": {
   "stem_cell": {
    "cell_type": "raw",
    "source": [],
    "metadata": {
     "collapsed": false
    }
   }
  }
 },
 "nbformat": 4,
 "nbformat_minor": 2
}